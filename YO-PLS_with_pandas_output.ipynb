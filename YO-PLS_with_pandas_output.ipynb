{
 "cells": [
  {
   "cell_type": "markdown",
   "metadata": {},
   "source": [
    "## Y-orthogonal PLS by pandas, using MVDA_exploration_tool\n",
    "#### Plot the raw data, build an YO-PLS model, and plot the results"
   ]
  },
  {
   "cell_type": "code",
   "execution_count": 1,
   "metadata": {},
   "outputs": [],
   "source": [
    "%load_ext autoreload\n",
    "%autoreload 2"
   ]
  },
  {
   "cell_type": "code",
   "execution_count": 5,
   "metadata": {},
   "outputs": [],
   "source": [
    "import sys\n",
    "import pandas as pd\n",
    "import numpy as np\n",
    "import MVDA_exploration_tools as mv\n",
    "import matplotlib.pyplot as plt\n",
    "import sklearn"
   ]
  },
  {
   "cell_type": "code",
   "execution_count": 6,
   "metadata": {},
   "outputs": [
    {
     "name": "stdout",
     "output_type": "stream",
     "text": [
      "Python version 3.10.6 (main, May 29 2023, 11:10:38) [GCC 11.3.0]\n",
      "sklearn.__version__ 1.2.2\n",
      "pandas.__version__ 2.0.1\n",
      "MVDA_exploration_tools.__version__ 0.1.6\n"
     ]
    }
   ],
   "source": [
    "print('Python version', sys.version)\n",
    "print('sklearn.__version__', sklearn.__version__)\n",
    "print('pandas.__version__', pd.__version__)\n",
    "print('MVDA_exploration_tools.__version__', mv.__version__)"
   ]
  },
  {
   "cell_type": "code",
   "execution_count": null,
   "metadata": {
    "scrolled": true
   },
   "outputs": [],
   "source": []
  },
  {
   "cell_type": "code",
   "execution_count": 8,
   "metadata": {},
   "outputs": [
    {
     "data": {
      "text/html": [
       "<div>\n",
       "<style scoped>\n",
       "    .dataframe tbody tr th:only-of-type {\n",
       "        vertical-align: middle;\n",
       "    }\n",
       "\n",
       "    .dataframe tbody tr th {\n",
       "        vertical-align: top;\n",
       "    }\n",
       "\n",
       "    .dataframe thead th {\n",
       "        text-align: right;\n",
       "    }\n",
       "</style>\n",
       "<table border=\"1\" class=\"dataframe\">\n",
       "  <thead>\n",
       "    <tr style=\"text-align: right;\">\n",
       "      <th></th>\n",
       "      <th>Unnamed: 0</th>\n",
       "      <th>sample</th>\n",
       "      <th>250</th>\n",
       "      <th>278</th>\n",
       "      <th>306</th>\n",
       "      <th>334</th>\n",
       "      <th>362</th>\n",
       "      <th>390</th>\n",
       "      <th>418</th>\n",
       "      <th>Fel</th>\n",
       "      <th>Met</th>\n",
       "    </tr>\n",
       "  </thead>\n",
       "  <tbody>\n",
       "    <tr>\n",
       "      <th>0</th>\n",
       "      <td>0</td>\n",
       "      <td>fm01</td>\n",
       "      <td>0.455452</td>\n",
       "      <td>0.536366</td>\n",
       "      <td>0.013826</td>\n",
       "      <td>0.099335</td>\n",
       "      <td>0.211982</td>\n",
       "      <td>0.111913</td>\n",
       "      <td>0.008058</td>\n",
       "      <td>0.01972</td>\n",
       "      <td>0.19112</td>\n",
       "    </tr>\n",
       "    <tr>\n",
       "      <th>1</th>\n",
       "      <td>1</td>\n",
       "      <td>fm02</td>\n",
       "      <td>0.564452</td>\n",
       "      <td>0.554564</td>\n",
       "      <td>0.020845</td>\n",
       "      <td>0.129672</td>\n",
       "      <td>0.271033</td>\n",
       "      <td>0.143549</td>\n",
       "      <td>0.009797</td>\n",
       "      <td>0.02465</td>\n",
       "      <td>0.19112</td>\n",
       "    </tr>\n",
       "    <tr>\n",
       "      <th>2</th>\n",
       "      <td>2</td>\n",
       "      <td>fm03</td>\n",
       "      <td>0.692226</td>\n",
       "      <td>0.596313</td>\n",
       "      <td>0.051761</td>\n",
       "      <td>0.181787</td>\n",
       "      <td>0.351545</td>\n",
       "      <td>0.199277</td>\n",
       "      <td>0.038096</td>\n",
       "      <td>0.02958</td>\n",
       "      <td>0.19112</td>\n",
       "    </tr>\n",
       "    <tr>\n",
       "      <th>3</th>\n",
       "      <td>3</td>\n",
       "      <td>fm04</td>\n",
       "      <td>0.483403</td>\n",
       "      <td>0.671500</td>\n",
       "      <td>0.014822</td>\n",
       "      <td>0.100429</td>\n",
       "      <td>0.213960</td>\n",
       "      <td>0.111585</td>\n",
       "      <td>0.005829</td>\n",
       "      <td>0.01972</td>\n",
       "      <td>0.23890</td>\n",
       "    </tr>\n",
       "    <tr>\n",
       "      <th>4</th>\n",
       "      <td>4</td>\n",
       "      <td>fm05</td>\n",
       "      <td>0.599889</td>\n",
       "      <td>0.699944</td>\n",
       "      <td>0.037068</td>\n",
       "      <td>0.143525</td>\n",
       "      <td>0.284059</td>\n",
       "      <td>0.156597</td>\n",
       "      <td>0.023061</td>\n",
       "      <td>0.02465</td>\n",
       "      <td>0.23890</td>\n",
       "    </tr>\n",
       "    <tr>\n",
       "      <th>5</th>\n",
       "      <td>5</td>\n",
       "      <td>fm06</td>\n",
       "      <td>0.703718</td>\n",
       "      <td>0.713386</td>\n",
       "      <td>0.044752</td>\n",
       "      <td>0.175482</td>\n",
       "      <td>0.346520</td>\n",
       "      <td>0.193078</td>\n",
       "      <td>0.029904</td>\n",
       "      <td>0.02958</td>\n",
       "      <td>0.23890</td>\n",
       "    </tr>\n",
       "    <tr>\n",
       "      <th>6</th>\n",
       "      <td>6</td>\n",
       "      <td>fm07</td>\n",
       "      <td>0.696338</td>\n",
       "      <td>0.700592</td>\n",
       "      <td>0.029916</td>\n",
       "      <td>0.159379</td>\n",
       "      <td>0.328703</td>\n",
       "      <td>0.174273</td>\n",
       "      <td>0.010329</td>\n",
       "      <td>0.02958</td>\n",
       "      <td>0.23890</td>\n",
       "    </tr>\n",
       "    <tr>\n",
       "      <th>7</th>\n",
       "      <td>7</td>\n",
       "      <td>fm08</td>\n",
       "      <td>0.514464</td>\n",
       "      <td>0.793404</td>\n",
       "      <td>0.020093</td>\n",
       "      <td>0.105247</td>\n",
       "      <td>0.219955</td>\n",
       "      <td>0.116894</td>\n",
       "      <td>0.009001</td>\n",
       "      <td>0.01972</td>\n",
       "      <td>0.28668</td>\n",
       "    </tr>\n",
       "    <tr>\n",
       "      <th>8</th>\n",
       "      <td>8</td>\n",
       "      <td>fm09</td>\n",
       "      <td>0.611695</td>\n",
       "      <td>0.805055</td>\n",
       "      <td>0.020922</td>\n",
       "      <td>0.127295</td>\n",
       "      <td>0.269475</td>\n",
       "      <td>0.139565</td>\n",
       "      <td>0.004334</td>\n",
       "      <td>0.02465</td>\n",
       "      <td>0.28668</td>\n",
       "    </tr>\n",
       "    <tr>\n",
       "      <th>9</th>\n",
       "      <td>9</td>\n",
       "      <td>fm10</td>\n",
       "      <td>0.720811</td>\n",
       "      <td>0.824102</td>\n",
       "      <td>0.035586</td>\n",
       "      <td>0.163817</td>\n",
       "      <td>0.333757</td>\n",
       "      <td>0.177520</td>\n",
       "      <td>0.014077</td>\n",
       "      <td>0.02958</td>\n",
       "      <td>0.28668</td>\n",
       "    </tr>\n",
       "    <tr>\n",
       "      <th>10</th>\n",
       "      <td>10</td>\n",
       "      <td>fm11</td>\n",
       "      <td>0.529496</td>\n",
       "      <td>0.074750</td>\n",
       "      <td>0.028027</td>\n",
       "      <td>0.131487</td>\n",
       "      <td>0.270114</td>\n",
       "      <td>0.141439</td>\n",
       "      <td>0.009292</td>\n",
       "      <td>0.02465</td>\n",
       "      <td>0.00000</td>\n",
       "    </tr>\n",
       "    <tr>\n",
       "      <th>11</th>\n",
       "      <td>11</td>\n",
       "      <td>fm12</td>\n",
       "      <td>0.133005</td>\n",
       "      <td>0.752452</td>\n",
       "      <td>0.008606</td>\n",
       "      <td>0.001916</td>\n",
       "      <td>0.002508</td>\n",
       "      <td>0.002149</td>\n",
       "      <td>0.012900</td>\n",
       "      <td>0.00000</td>\n",
       "      <td>0.28668</td>\n",
       "    </tr>\n",
       "  </tbody>\n",
       "</table>\n",
       "</div>"
      ],
      "text/plain": [
       "    Unnamed: 0 sample       250       278       306       334       362   \n",
       "0            0   fm01  0.455452  0.536366  0.013826  0.099335  0.211982  \\\n",
       "1            1   fm02  0.564452  0.554564  0.020845  0.129672  0.271033   \n",
       "2            2   fm03  0.692226  0.596313  0.051761  0.181787  0.351545   \n",
       "3            3   fm04  0.483403  0.671500  0.014822  0.100429  0.213960   \n",
       "4            4   fm05  0.599889  0.699944  0.037068  0.143525  0.284059   \n",
       "5            5   fm06  0.703718  0.713386  0.044752  0.175482  0.346520   \n",
       "6            6   fm07  0.696338  0.700592  0.029916  0.159379  0.328703   \n",
       "7            7   fm08  0.514464  0.793404  0.020093  0.105247  0.219955   \n",
       "8            8   fm09  0.611695  0.805055  0.020922  0.127295  0.269475   \n",
       "9            9   fm10  0.720811  0.824102  0.035586  0.163817  0.333757   \n",
       "10          10   fm11  0.529496  0.074750  0.028027  0.131487  0.270114   \n",
       "11          11   fm12  0.133005  0.752452  0.008606  0.001916  0.002508   \n",
       "\n",
       "         390       418      Fel      Met  \n",
       "0   0.111913  0.008058  0.01972  0.19112  \n",
       "1   0.143549  0.009797  0.02465  0.19112  \n",
       "2   0.199277  0.038096  0.02958  0.19112  \n",
       "3   0.111585  0.005829  0.01972  0.23890  \n",
       "4   0.156597  0.023061  0.02465  0.23890  \n",
       "5   0.193078  0.029904  0.02958  0.23890  \n",
       "6   0.174273  0.010329  0.02958  0.23890  \n",
       "7   0.116894  0.009001  0.01972  0.28668  \n",
       "8   0.139565  0.004334  0.02465  0.28668  \n",
       "9   0.177520  0.014077  0.02958  0.28668  \n",
       "10  0.141439  0.009292  0.02465  0.00000  \n",
       "11  0.002149  0.012900  0.00000  0.28668  "
      ]
     },
     "metadata": {},
     "output_type": "display_data"
    }
   ],
   "source": [
    "dataFrame = pd.read_excel('decimated_spectra.xlsx')\n",
    "display(dataFrame)"
   ]
  },
  {
   "cell_type": "markdown",
   "metadata": {},
   "source": [
    "### Define the primary ID (index) of the table as the column named sample"
   ]
  },
  {
   "cell_type": "code",
   "execution_count": 9,
   "metadata": {},
   "outputs": [
    {
     "data": {
      "text/html": [
       "<div>\n",
       "<style scoped>\n",
       "    .dataframe tbody tr th:only-of-type {\n",
       "        vertical-align: middle;\n",
       "    }\n",
       "\n",
       "    .dataframe tbody tr th {\n",
       "        vertical-align: top;\n",
       "    }\n",
       "\n",
       "    .dataframe thead th {\n",
       "        text-align: right;\n",
       "    }\n",
       "</style>\n",
       "<table border=\"1\" class=\"dataframe\">\n",
       "  <thead>\n",
       "    <tr style=\"text-align: right;\">\n",
       "      <th></th>\n",
       "      <th>Unnamed: 0</th>\n",
       "      <th>250</th>\n",
       "      <th>278</th>\n",
       "      <th>306</th>\n",
       "      <th>334</th>\n",
       "      <th>362</th>\n",
       "      <th>390</th>\n",
       "      <th>418</th>\n",
       "      <th>Fel</th>\n",
       "      <th>Met</th>\n",
       "    </tr>\n",
       "    <tr>\n",
       "      <th>sample</th>\n",
       "      <th></th>\n",
       "      <th></th>\n",
       "      <th></th>\n",
       "      <th></th>\n",
       "      <th></th>\n",
       "      <th></th>\n",
       "      <th></th>\n",
       "      <th></th>\n",
       "      <th></th>\n",
       "      <th></th>\n",
       "    </tr>\n",
       "  </thead>\n",
       "  <tbody>\n",
       "    <tr>\n",
       "      <th>fm01</th>\n",
       "      <td>0</td>\n",
       "      <td>0.455452</td>\n",
       "      <td>0.536366</td>\n",
       "      <td>0.013826</td>\n",
       "      <td>0.099335</td>\n",
       "      <td>0.211982</td>\n",
       "      <td>0.111913</td>\n",
       "      <td>0.008058</td>\n",
       "      <td>0.01972</td>\n",
       "      <td>0.19112</td>\n",
       "    </tr>\n",
       "    <tr>\n",
       "      <th>fm02</th>\n",
       "      <td>1</td>\n",
       "      <td>0.564452</td>\n",
       "      <td>0.554564</td>\n",
       "      <td>0.020845</td>\n",
       "      <td>0.129672</td>\n",
       "      <td>0.271033</td>\n",
       "      <td>0.143549</td>\n",
       "      <td>0.009797</td>\n",
       "      <td>0.02465</td>\n",
       "      <td>0.19112</td>\n",
       "    </tr>\n",
       "    <tr>\n",
       "      <th>fm03</th>\n",
       "      <td>2</td>\n",
       "      <td>0.692226</td>\n",
       "      <td>0.596313</td>\n",
       "      <td>0.051761</td>\n",
       "      <td>0.181787</td>\n",
       "      <td>0.351545</td>\n",
       "      <td>0.199277</td>\n",
       "      <td>0.038096</td>\n",
       "      <td>0.02958</td>\n",
       "      <td>0.19112</td>\n",
       "    </tr>\n",
       "    <tr>\n",
       "      <th>fm04</th>\n",
       "      <td>3</td>\n",
       "      <td>0.483403</td>\n",
       "      <td>0.671500</td>\n",
       "      <td>0.014822</td>\n",
       "      <td>0.100429</td>\n",
       "      <td>0.213960</td>\n",
       "      <td>0.111585</td>\n",
       "      <td>0.005829</td>\n",
       "      <td>0.01972</td>\n",
       "      <td>0.23890</td>\n",
       "    </tr>\n",
       "    <tr>\n",
       "      <th>fm05</th>\n",
       "      <td>4</td>\n",
       "      <td>0.599889</td>\n",
       "      <td>0.699944</td>\n",
       "      <td>0.037068</td>\n",
       "      <td>0.143525</td>\n",
       "      <td>0.284059</td>\n",
       "      <td>0.156597</td>\n",
       "      <td>0.023061</td>\n",
       "      <td>0.02465</td>\n",
       "      <td>0.23890</td>\n",
       "    </tr>\n",
       "    <tr>\n",
       "      <th>fm06</th>\n",
       "      <td>5</td>\n",
       "      <td>0.703718</td>\n",
       "      <td>0.713386</td>\n",
       "      <td>0.044752</td>\n",
       "      <td>0.175482</td>\n",
       "      <td>0.346520</td>\n",
       "      <td>0.193078</td>\n",
       "      <td>0.029904</td>\n",
       "      <td>0.02958</td>\n",
       "      <td>0.23890</td>\n",
       "    </tr>\n",
       "    <tr>\n",
       "      <th>fm07</th>\n",
       "      <td>6</td>\n",
       "      <td>0.696338</td>\n",
       "      <td>0.700592</td>\n",
       "      <td>0.029916</td>\n",
       "      <td>0.159379</td>\n",
       "      <td>0.328703</td>\n",
       "      <td>0.174273</td>\n",
       "      <td>0.010329</td>\n",
       "      <td>0.02958</td>\n",
       "      <td>0.23890</td>\n",
       "    </tr>\n",
       "    <tr>\n",
       "      <th>fm08</th>\n",
       "      <td>7</td>\n",
       "      <td>0.514464</td>\n",
       "      <td>0.793404</td>\n",
       "      <td>0.020093</td>\n",
       "      <td>0.105247</td>\n",
       "      <td>0.219955</td>\n",
       "      <td>0.116894</td>\n",
       "      <td>0.009001</td>\n",
       "      <td>0.01972</td>\n",
       "      <td>0.28668</td>\n",
       "    </tr>\n",
       "    <tr>\n",
       "      <th>fm09</th>\n",
       "      <td>8</td>\n",
       "      <td>0.611695</td>\n",
       "      <td>0.805055</td>\n",
       "      <td>0.020922</td>\n",
       "      <td>0.127295</td>\n",
       "      <td>0.269475</td>\n",
       "      <td>0.139565</td>\n",
       "      <td>0.004334</td>\n",
       "      <td>0.02465</td>\n",
       "      <td>0.28668</td>\n",
       "    </tr>\n",
       "    <tr>\n",
       "      <th>fm10</th>\n",
       "      <td>9</td>\n",
       "      <td>0.720811</td>\n",
       "      <td>0.824102</td>\n",
       "      <td>0.035586</td>\n",
       "      <td>0.163817</td>\n",
       "      <td>0.333757</td>\n",
       "      <td>0.177520</td>\n",
       "      <td>0.014077</td>\n",
       "      <td>0.02958</td>\n",
       "      <td>0.28668</td>\n",
       "    </tr>\n",
       "    <tr>\n",
       "      <th>fm11</th>\n",
       "      <td>10</td>\n",
       "      <td>0.529496</td>\n",
       "      <td>0.074750</td>\n",
       "      <td>0.028027</td>\n",
       "      <td>0.131487</td>\n",
       "      <td>0.270114</td>\n",
       "      <td>0.141439</td>\n",
       "      <td>0.009292</td>\n",
       "      <td>0.02465</td>\n",
       "      <td>0.00000</td>\n",
       "    </tr>\n",
       "    <tr>\n",
       "      <th>fm12</th>\n",
       "      <td>11</td>\n",
       "      <td>0.133005</td>\n",
       "      <td>0.752452</td>\n",
       "      <td>0.008606</td>\n",
       "      <td>0.001916</td>\n",
       "      <td>0.002508</td>\n",
       "      <td>0.002149</td>\n",
       "      <td>0.012900</td>\n",
       "      <td>0.00000</td>\n",
       "      <td>0.28668</td>\n",
       "    </tr>\n",
       "  </tbody>\n",
       "</table>\n",
       "</div>"
      ],
      "text/plain": [
       "        Unnamed: 0       250       278       306       334       362   \n",
       "sample                                                                 \n",
       "fm01             0  0.455452  0.536366  0.013826  0.099335  0.211982  \\\n",
       "fm02             1  0.564452  0.554564  0.020845  0.129672  0.271033   \n",
       "fm03             2  0.692226  0.596313  0.051761  0.181787  0.351545   \n",
       "fm04             3  0.483403  0.671500  0.014822  0.100429  0.213960   \n",
       "fm05             4  0.599889  0.699944  0.037068  0.143525  0.284059   \n",
       "fm06             5  0.703718  0.713386  0.044752  0.175482  0.346520   \n",
       "fm07             6  0.696338  0.700592  0.029916  0.159379  0.328703   \n",
       "fm08             7  0.514464  0.793404  0.020093  0.105247  0.219955   \n",
       "fm09             8  0.611695  0.805055  0.020922  0.127295  0.269475   \n",
       "fm10             9  0.720811  0.824102  0.035586  0.163817  0.333757   \n",
       "fm11            10  0.529496  0.074750  0.028027  0.131487  0.270114   \n",
       "fm12            11  0.133005  0.752452  0.008606  0.001916  0.002508   \n",
       "\n",
       "             390       418      Fel      Met  \n",
       "sample                                        \n",
       "fm01    0.111913  0.008058  0.01972  0.19112  \n",
       "fm02    0.143549  0.009797  0.02465  0.19112  \n",
       "fm03    0.199277  0.038096  0.02958  0.19112  \n",
       "fm04    0.111585  0.005829  0.01972  0.23890  \n",
       "fm05    0.156597  0.023061  0.02465  0.23890  \n",
       "fm06    0.193078  0.029904  0.02958  0.23890  \n",
       "fm07    0.174273  0.010329  0.02958  0.23890  \n",
       "fm08    0.116894  0.009001  0.01972  0.28668  \n",
       "fm09    0.139565  0.004334  0.02465  0.28668  \n",
       "fm10    0.177520  0.014077  0.02958  0.28668  \n",
       "fm11    0.141439  0.009292  0.02465  0.00000  \n",
       "fm12    0.002149  0.012900  0.00000  0.28668  "
      ]
     },
     "execution_count": 9,
     "metadata": {},
     "output_type": "execute_result"
    }
   ],
   "source": [
    "named_Obs_dataFrame = dataFrame.set_index('sample')\n",
    "named_Obs_dataFrame"
   ]
  },
  {
   "cell_type": "markdown",
   "metadata": {},
   "source": [
    "### Get the selection of the data table designated as X-data"
   ]
  },
  {
   "cell_type": "code",
   "execution_count": 10,
   "metadata": {},
   "outputs": [
    {
     "data": {
      "text/html": [
       "<div>\n",
       "<style scoped>\n",
       "    .dataframe tbody tr th:only-of-type {\n",
       "        vertical-align: middle;\n",
       "    }\n",
       "\n",
       "    .dataframe tbody tr th {\n",
       "        vertical-align: top;\n",
       "    }\n",
       "\n",
       "    .dataframe thead th {\n",
       "        text-align: right;\n",
       "    }\n",
       "</style>\n",
       "<table border=\"1\" class=\"dataframe\">\n",
       "  <thead>\n",
       "    <tr style=\"text-align: right;\">\n",
       "      <th></th>\n",
       "      <th>250</th>\n",
       "      <th>278</th>\n",
       "      <th>306</th>\n",
       "      <th>334</th>\n",
       "      <th>362</th>\n",
       "      <th>390</th>\n",
       "      <th>418</th>\n",
       "    </tr>\n",
       "    <tr>\n",
       "      <th>sample</th>\n",
       "      <th></th>\n",
       "      <th></th>\n",
       "      <th></th>\n",
       "      <th></th>\n",
       "      <th></th>\n",
       "      <th></th>\n",
       "      <th></th>\n",
       "    </tr>\n",
       "  </thead>\n",
       "  <tbody>\n",
       "    <tr>\n",
       "      <th>fm01</th>\n",
       "      <td>0.455452</td>\n",
       "      <td>0.536366</td>\n",
       "      <td>0.013826</td>\n",
       "      <td>0.099335</td>\n",
       "      <td>0.211982</td>\n",
       "      <td>0.111913</td>\n",
       "      <td>0.008058</td>\n",
       "    </tr>\n",
       "    <tr>\n",
       "      <th>fm02</th>\n",
       "      <td>0.564452</td>\n",
       "      <td>0.554564</td>\n",
       "      <td>0.020845</td>\n",
       "      <td>0.129672</td>\n",
       "      <td>0.271033</td>\n",
       "      <td>0.143549</td>\n",
       "      <td>0.009797</td>\n",
       "    </tr>\n",
       "    <tr>\n",
       "      <th>fm03</th>\n",
       "      <td>0.692226</td>\n",
       "      <td>0.596313</td>\n",
       "      <td>0.051761</td>\n",
       "      <td>0.181787</td>\n",
       "      <td>0.351545</td>\n",
       "      <td>0.199277</td>\n",
       "      <td>0.038096</td>\n",
       "    </tr>\n",
       "    <tr>\n",
       "      <th>fm04</th>\n",
       "      <td>0.483403</td>\n",
       "      <td>0.671500</td>\n",
       "      <td>0.014822</td>\n",
       "      <td>0.100429</td>\n",
       "      <td>0.213960</td>\n",
       "      <td>0.111585</td>\n",
       "      <td>0.005829</td>\n",
       "    </tr>\n",
       "    <tr>\n",
       "      <th>fm05</th>\n",
       "      <td>0.599889</td>\n",
       "      <td>0.699944</td>\n",
       "      <td>0.037068</td>\n",
       "      <td>0.143525</td>\n",
       "      <td>0.284059</td>\n",
       "      <td>0.156597</td>\n",
       "      <td>0.023061</td>\n",
       "    </tr>\n",
       "    <tr>\n",
       "      <th>fm06</th>\n",
       "      <td>0.703718</td>\n",
       "      <td>0.713386</td>\n",
       "      <td>0.044752</td>\n",
       "      <td>0.175482</td>\n",
       "      <td>0.346520</td>\n",
       "      <td>0.193078</td>\n",
       "      <td>0.029904</td>\n",
       "    </tr>\n",
       "    <tr>\n",
       "      <th>fm07</th>\n",
       "      <td>0.696338</td>\n",
       "      <td>0.700592</td>\n",
       "      <td>0.029916</td>\n",
       "      <td>0.159379</td>\n",
       "      <td>0.328703</td>\n",
       "      <td>0.174273</td>\n",
       "      <td>0.010329</td>\n",
       "    </tr>\n",
       "    <tr>\n",
       "      <th>fm08</th>\n",
       "      <td>0.514464</td>\n",
       "      <td>0.793404</td>\n",
       "      <td>0.020093</td>\n",
       "      <td>0.105247</td>\n",
       "      <td>0.219955</td>\n",
       "      <td>0.116894</td>\n",
       "      <td>0.009001</td>\n",
       "    </tr>\n",
       "    <tr>\n",
       "      <th>fm09</th>\n",
       "      <td>0.611695</td>\n",
       "      <td>0.805055</td>\n",
       "      <td>0.020922</td>\n",
       "      <td>0.127295</td>\n",
       "      <td>0.269475</td>\n",
       "      <td>0.139565</td>\n",
       "      <td>0.004334</td>\n",
       "    </tr>\n",
       "    <tr>\n",
       "      <th>fm10</th>\n",
       "      <td>0.720811</td>\n",
       "      <td>0.824102</td>\n",
       "      <td>0.035586</td>\n",
       "      <td>0.163817</td>\n",
       "      <td>0.333757</td>\n",
       "      <td>0.177520</td>\n",
       "      <td>0.014077</td>\n",
       "    </tr>\n",
       "  </tbody>\n",
       "</table>\n",
       "</div>"
      ],
      "text/plain": [
       "             250       278       306       334       362       390       418\n",
       "sample                                                                      \n",
       "fm01    0.455452  0.536366  0.013826  0.099335  0.211982  0.111913  0.008058\n",
       "fm02    0.564452  0.554564  0.020845  0.129672  0.271033  0.143549  0.009797\n",
       "fm03    0.692226  0.596313  0.051761  0.181787  0.351545  0.199277  0.038096\n",
       "fm04    0.483403  0.671500  0.014822  0.100429  0.213960  0.111585  0.005829\n",
       "fm05    0.599889  0.699944  0.037068  0.143525  0.284059  0.156597  0.023061\n",
       "fm06    0.703718  0.713386  0.044752  0.175482  0.346520  0.193078  0.029904\n",
       "fm07    0.696338  0.700592  0.029916  0.159379  0.328703  0.174273  0.010329\n",
       "fm08    0.514464  0.793404  0.020093  0.105247  0.219955  0.116894  0.009001\n",
       "fm09    0.611695  0.805055  0.020922  0.127295  0.269475  0.139565  0.004334\n",
       "fm10    0.720811  0.824102  0.035586  0.163817  0.333757  0.177520  0.014077"
      ]
     },
     "execution_count": 10,
     "metadata": {},
     "output_type": "execute_result"
    }
   ],
   "source": [
    "data = named_Obs_dataFrame.loc['fm01':'fm10' , '250':'418']\n",
    "data"
   ]
  },
  {
   "cell_type": "code",
   "execution_count": 11,
   "metadata": {},
   "outputs": [
    {
     "data": {
      "text/html": [
       "<div>\n",
       "<style scoped>\n",
       "    .dataframe tbody tr th:only-of-type {\n",
       "        vertical-align: middle;\n",
       "    }\n",
       "\n",
       "    .dataframe tbody tr th {\n",
       "        vertical-align: top;\n",
       "    }\n",
       "\n",
       "    .dataframe thead th {\n",
       "        text-align: right;\n",
       "    }\n",
       "</style>\n",
       "<table border=\"1\" class=\"dataframe\">\n",
       "  <thead>\n",
       "    <tr style=\"text-align: right;\">\n",
       "      <th></th>\n",
       "      <th>250</th>\n",
       "      <th>278</th>\n",
       "      <th>306</th>\n",
       "      <th>334</th>\n",
       "      <th>362</th>\n",
       "      <th>390</th>\n",
       "      <th>418</th>\n",
       "    </tr>\n",
       "    <tr>\n",
       "      <th>sample</th>\n",
       "      <th></th>\n",
       "      <th></th>\n",
       "      <th></th>\n",
       "      <th></th>\n",
       "      <th></th>\n",
       "      <th></th>\n",
       "      <th></th>\n",
       "    </tr>\n",
       "  </thead>\n",
       "  <tbody>\n",
       "    <tr>\n",
       "      <th>fm11</th>\n",
       "      <td>0.529496</td>\n",
       "      <td>0.074750</td>\n",
       "      <td>0.028027</td>\n",
       "      <td>0.131487</td>\n",
       "      <td>0.270114</td>\n",
       "      <td>0.141439</td>\n",
       "      <td>0.009292</td>\n",
       "    </tr>\n",
       "    <tr>\n",
       "      <th>fm12</th>\n",
       "      <td>0.133005</td>\n",
       "      <td>0.752452</td>\n",
       "      <td>0.008606</td>\n",
       "      <td>0.001916</td>\n",
       "      <td>0.002508</td>\n",
       "      <td>0.002149</td>\n",
       "      <td>0.012900</td>\n",
       "    </tr>\n",
       "  </tbody>\n",
       "</table>\n",
       "</div>"
      ],
      "text/plain": [
       "             250       278       306       334       362       390       418\n",
       "sample                                                                      \n",
       "fm11    0.529496  0.074750  0.028027  0.131487  0.270114  0.141439  0.009292\n",
       "fm12    0.133005  0.752452  0.008606  0.001916  0.002508  0.002149  0.012900"
      ]
     },
     "execution_count": 11,
     "metadata": {},
     "output_type": "execute_result"
    }
   ],
   "source": [
    "test_set = named_Obs_dataFrame.loc['fm11':'fm12' , '250':'418']\n",
    "test_set "
   ]
  },
  {
   "cell_type": "markdown",
   "metadata": {},
   "source": [
    "### Plot the X-data using the pandas plotting tools"
   ]
  },
  {
   "cell_type": "code",
   "execution_count": 12,
   "metadata": {},
   "outputs": [
    {
     "data": {
      "image/png": "[encoded data removed]",
      "text/plain": [
       "<Figure size 640x480 with 1 Axes>"
      ]
     },
     "metadata": {},
     "output_type": "display_data"
    }
   ],
   "source": [
    "raw_plt_axes = data.transpose().plot()\n",
    "raw_plt_axes.set_xlabel('nm')\n",
    "_ = raw_plt_axes.set_ylabel('Absorbance')"
   ]
  },
  {
   "cell_type": "markdown",
   "metadata": {},
   "source": [
    "### Get the selection of the data table designated as Y-data"
   ]
  },
  {
   "cell_type": "code",
   "execution_count": 13,
   "metadata": {},
   "outputs": [
    {
     "data": {
      "text/html": [
       "<div>\n",
       "<style scoped>\n",
       "    .dataframe tbody tr th:only-of-type {\n",
       "        vertical-align: middle;\n",
       "    }\n",
       "\n",
       "    .dataframe tbody tr th {\n",
       "        vertical-align: top;\n",
       "    }\n",
       "\n",
       "    .dataframe thead th {\n",
       "        text-align: right;\n",
       "    }\n",
       "</style>\n",
       "<table border=\"1\" class=\"dataframe\">\n",
       "  <thead>\n",
       "    <tr style=\"text-align: right;\">\n",
       "      <th></th>\n",
       "      <th>Met</th>\n",
       "    </tr>\n",
       "    <tr>\n",
       "      <th>sample</th>\n",
       "      <th></th>\n",
       "    </tr>\n",
       "  </thead>\n",
       "  <tbody>\n",
       "    <tr>\n",
       "      <th>fm01</th>\n",
       "      <td>0.19112</td>\n",
       "    </tr>\n",
       "    <tr>\n",
       "      <th>fm02</th>\n",
       "      <td>0.19112</td>\n",
       "    </tr>\n",
       "    <tr>\n",
       "      <th>fm03</th>\n",
       "      <td>0.19112</td>\n",
       "    </tr>\n",
       "    <tr>\n",
       "      <th>fm04</th>\n",
       "      <td>0.23890</td>\n",
       "    </tr>\n",
       "    <tr>\n",
       "      <th>fm05</th>\n",
       "      <td>0.23890</td>\n",
       "    </tr>\n",
       "    <tr>\n",
       "      <th>fm06</th>\n",
       "      <td>0.23890</td>\n",
       "    </tr>\n",
       "    <tr>\n",
       "      <th>fm07</th>\n",
       "      <td>0.23890</td>\n",
       "    </tr>\n",
       "    <tr>\n",
       "      <th>fm08</th>\n",
       "      <td>0.28668</td>\n",
       "    </tr>\n",
       "    <tr>\n",
       "      <th>fm09</th>\n",
       "      <td>0.28668</td>\n",
       "    </tr>\n",
       "    <tr>\n",
       "      <th>fm10</th>\n",
       "      <td>0.28668</td>\n",
       "    </tr>\n",
       "  </tbody>\n",
       "</table>\n",
       "</div>"
      ],
      "text/plain": [
       "            Met\n",
       "sample         \n",
       "fm01    0.19112\n",
       "fm02    0.19112\n",
       "fm03    0.19112\n",
       "fm04    0.23890\n",
       "fm05    0.23890\n",
       "fm06    0.23890\n",
       "fm07    0.23890\n",
       "fm08    0.28668\n",
       "fm09    0.28668\n",
       "fm10    0.28668"
      ]
     },
     "execution_count": 13,
     "metadata": {},
     "output_type": "execute_result"
    }
   ],
   "source": [
    "y = named_Obs_dataFrame.loc['fm01':'fm10' , ['Met']]\n",
    "y"
   ]
  },
  {
   "cell_type": "markdown",
   "metadata": {},
   "source": [
    "### Evaluate the possible number of components to use in the YO-PLS model \n",
    "Note that we use an estimation based on PLS, this is because there is no difference between YO-PLS and PLS when it comes to predictions, which is what is used in the creoss-valiation leading to the Q\" values here.  "
   ]
  },
  {
   "cell_type": "code",
   "execution_count": 16,
   "metadata": {},
   "outputs": [
    {
     "name": "stdout",
     "output_type": "stream",
     "text": [
      "Max number of components reduced to: 4\n",
      "Q2 [0.66441481 0.99013783 0.99404477 0.99404441]\n"
     ]
    },
    {
     "data": {
      "image/png": "[encoded data removed]",
      "text/plain": [
       "<Figure size 640x480 with 1 Axes>"
      ]
     },
     "metadata": {},
     "output_type": "display_data"
    }
   ],
   "source": [
    "R2, Q2 = mv.evalPLS_Q2(data, y)\n",
    "print('Q2', Q2)"
   ]
  },
  {
   "cell_type": "markdown",
   "metadata": {},
   "source": [
    "### As the Q2 values levels out at 2 components, 2 components are selected"
   ]
  },
  {
   "cell_type": "code",
   "execution_count": 17,
   "metadata": {},
   "outputs": [],
   "source": [
    "M1 = mv.yo_PLS_model(n_components=2)"
   ]
  },
  {
   "cell_type": "code",
   "execution_count": 18,
   "metadata": {},
   "outputs": [],
   "source": [
    "M1.fit(data, y)"
   ]
  },
  {
   "cell_type": "markdown",
   "metadata": {},
   "source": [
    "### Check the shape of predictive YO-PLS loadings (P)"
   ]
  },
  {
   "cell_type": "code",
   "execution_count": 19,
   "metadata": {},
   "outputs": [
    {
     "data": {
      "text/html": [
       "<div>\n",
       "<style scoped>\n",
       "    .dataframe tbody tr th:only-of-type {\n",
       "        vertical-align: middle;\n",
       "    }\n",
       "\n",
       "    .dataframe tbody tr th {\n",
       "        vertical-align: top;\n",
       "    }\n",
       "\n",
       "    .dataframe thead th {\n",
       "        text-align: right;\n",
       "    }\n",
       "</style>\n",
       "<table border=\"1\" class=\"dataframe\">\n",
       "  <thead>\n",
       "    <tr style=\"text-align: right;\">\n",
       "      <th></th>\n",
       "      <th>250</th>\n",
       "      <th>278</th>\n",
       "      <th>306</th>\n",
       "      <th>334</th>\n",
       "      <th>362</th>\n",
       "      <th>390</th>\n",
       "      <th>418</th>\n",
       "    </tr>\n",
       "  </thead>\n",
       "  <tbody>\n",
       "    <tr>\n",
       "      <th>p1</th>\n",
       "      <td>0.178012</td>\n",
       "      <td>0.982739</td>\n",
       "      <td>-0.010656</td>\n",
       "      <td>-0.017686</td>\n",
       "      <td>-0.014719</td>\n",
       "      <td>-0.02604</td>\n",
       "      <td>-0.035204</td>\n",
       "    </tr>\n",
       "  </tbody>\n",
       "</table>\n",
       "</div>"
      ],
      "text/plain": [
       "         250       278       306       334       362      390       418\n",
       "p1  0.178012  0.982739 -0.010656 -0.017686 -0.014719 -0.02604 -0.035204"
      ]
     },
     "execution_count": 19,
     "metadata": {},
     "output_type": "execute_result"
    }
   ],
   "source": [
    "M1.P"
   ]
  },
  {
   "cell_type": "code",
   "execution_count": 22,
   "metadata": {},
   "outputs": [
    {
     "data": {
      "text/plain": [
       "Text(0, 0.5, 'predictive loadings, normalized')"
      ]
     },
     "execution_count": 22,
     "metadata": {},
     "output_type": "execute_result"
    },
    {
     "data": {
      "image/png": "[encoded data removed]",
      "text/plain": [
       "<Figure size 640x480 with 1 Axes>"
      ]
     },
     "metadata": {},
     "output_type": "display_data"
    }
   ],
   "source": [
    "handle=M1.P.transpose().plot()\n",
    "handle.set_xlabel('wavelength (nm)')\n",
    "handle.set_ylabel('predictive loadings, normalized')"
   ]
  },
  {
   "cell_type": "code",
   "execution_count": 24,
   "metadata": {},
   "outputs": [
    {
     "data": {
      "text/plain": [
       "Text(0, 0.5, 'orthogonal loadings, normalized')"
      ]
     },
     "execution_count": 24,
     "metadata": {},
     "output_type": "execute_result"
    },
    {
     "data": {
      "image/png": "[encoded data removed]",
      "text/plain": [
       "<Figure size 640x480 with 1 Axes>"
      ]
     },
     "metadata": {},
     "output_type": "display_data"
    }
   ],
   "source": [
    "handle = M1.Po.transpose().plot()\n",
    "handle.set_xlabel('wavelength (nm)')\n",
    "handle.set_ylabel('orthogonal loadings, normalized')"
   ]
  },
  {
   "cell_type": "markdown",
   "metadata": {},
   "source": [
    "### Combine predictive and orthogonal loadings in one plot"
   ]
  },
  {
   "cell_type": "code",
   "execution_count": 26,
   "metadata": {},
   "outputs": [
    {
     "data": {
      "text/plain": [
       "array([ True,  True])"
      ]
     },
     "execution_count": 26,
     "metadata": {},
     "output_type": "execute_result"
    }
   ],
   "source": [
    "rows = M1.P_Po.index.isin(['p1', 'po1'])\n",
    "rows"
   ]
  },
  {
   "cell_type": "code",
   "execution_count": 27,
   "metadata": {},
   "outputs": [
    {
     "data": {
      "text/html": [
       "<div>\n",
       "<style scoped>\n",
       "    .dataframe tbody tr th:only-of-type {\n",
       "        vertical-align: middle;\n",
       "    }\n",
       "\n",
       "    .dataframe tbody tr th {\n",
       "        vertical-align: top;\n",
       "    }\n",
       "\n",
       "    .dataframe thead th {\n",
       "        text-align: right;\n",
       "    }\n",
       "</style>\n",
       "<table border=\"1\" class=\"dataframe\">\n",
       "  <thead>\n",
       "    <tr style=\"text-align: right;\">\n",
       "      <th></th>\n",
       "      <th>250</th>\n",
       "      <th>278</th>\n",
       "      <th>306</th>\n",
       "      <th>334</th>\n",
       "      <th>362</th>\n",
       "      <th>390</th>\n",
       "      <th>418</th>\n",
       "    </tr>\n",
       "  </thead>\n",
       "  <tbody>\n",
       "    <tr>\n",
       "      <th>p1</th>\n",
       "      <td>0.178012</td>\n",
       "      <td>0.982739</td>\n",
       "      <td>-0.010656</td>\n",
       "      <td>-0.017686</td>\n",
       "      <td>-0.014719</td>\n",
       "      <td>-0.026040</td>\n",
       "      <td>-0.035204</td>\n",
       "    </tr>\n",
       "    <tr>\n",
       "      <th>po1</th>\n",
       "      <td>0.819579</td>\n",
       "      <td>0.161997</td>\n",
       "      <td>0.097668</td>\n",
       "      <td>0.261900</td>\n",
       "      <td>0.471658</td>\n",
       "      <td>0.278097</td>\n",
       "      <td>0.066127</td>\n",
       "    </tr>\n",
       "  </tbody>\n",
       "</table>\n",
       "</div>"
      ],
      "text/plain": [
       "          250       278       306       334       362       390       418\n",
       "p1   0.178012  0.982739 -0.010656 -0.017686 -0.014719 -0.026040 -0.035204\n",
       "po1  0.819579  0.161997  0.097668  0.261900  0.471658  0.278097  0.066127"
      ]
     },
     "execution_count": 27,
     "metadata": {},
     "output_type": "execute_result"
    }
   ],
   "source": [
    "M1.P_Po[rows]"
   ]
  },
  {
   "cell_type": "code",
   "execution_count": 28,
   "metadata": {},
   "outputs": [
    {
     "data": {
      "text/plain": [
       "Text(0, 0.5, 'orthogonal loadings, normalized')"
      ]
     },
     "execution_count": 28,
     "metadata": {},
     "output_type": "execute_result"
    },
    {
     "data": {
      "image/png": "[encoded data removed]",
      "text/plain": [
       "<Figure size 640x480 with 1 Axes>"
      ]
     },
     "metadata": {},
     "output_type": "display_data"
    }
   ],
   "source": [
    "axP_Po = M1.P_Po[rows].transpose().plot()\n",
    "axP_Po.set_xlabel('wavelength (nm)')\n",
    "axP_Po.set_ylabel('orthogonal loadings, normalized')"
   ]
  },
  {
   "cell_type": "markdown",
   "metadata": {},
   "source": [
    "### Save Figure using matplotlib savefig function"
   ]
  },
  {
   "cell_type": "code",
   "execution_count": 29,
   "metadata": {},
   "outputs": [],
   "source": [
    "axP_Po_fig = axP_Po.get_figure()\n",
    "axP_Po_fig.savefig('testsave_P_Po.png')"
   ]
  },
  {
   "cell_type": "markdown",
   "metadata": {},
   "source": [
    "### Save zoomable Figure in html file\n",
    "(using the bokeh python library)"
   ]
  },
  {
   "cell_type": "code",
   "execution_count": 31,
   "metadata": {},
   "outputs": [
    {
     "name": "stdout",
     "output_type": "stream",
     "text": [
      "Plot was saved at: zoomable_P_Po_.html\n"
     ]
    }
   ],
   "source": [
    "attrib = {}\n",
    "attrib['xlabel'] = 'wavelength (nm)'\n",
    "attrib['ylabel'] = 'orthogonal loadings, normalized'\n",
    "mv.save_zoomable_plot(M1.P_Po[rows].transpose(), 'zoomable_P_Po', attrib=attrib)"
   ]
  },
  {
   "cell_type": "markdown",
   "metadata": {},
   "source": [
    "### Show the scores, both predictive and orthogonal"
   ]
  },
  {
   "cell_type": "code",
   "execution_count": 37,
   "metadata": {},
   "outputs": [
    {
     "data": {
      "text/html": [
       "<div>\n",
       "<style scoped>\n",
       "    .dataframe tbody tr th:only-of-type {\n",
       "        vertical-align: middle;\n",
       "    }\n",
       "\n",
       "    .dataframe tbody tr th {\n",
       "        vertical-align: top;\n",
       "    }\n",
       "\n",
       "    .dataframe thead th {\n",
       "        text-align: right;\n",
       "    }\n",
       "</style>\n",
       "<table border=\"1\" class=\"dataframe\">\n",
       "  <thead>\n",
       "    <tr style=\"text-align: right;\">\n",
       "      <th></th>\n",
       "      <th>t1</th>\n",
       "      <th>to1</th>\n",
       "    </tr>\n",
       "    <tr>\n",
       "      <th>sample</th>\n",
       "      <th></th>\n",
       "      <th></th>\n",
       "    </tr>\n",
       "  </thead>\n",
       "  <tbody>\n",
       "    <tr>\n",
       "      <th>fm01</th>\n",
       "      <td>-0.130022</td>\n",
       "      <td>-0.154645</td>\n",
       "    </tr>\n",
       "    <tr>\n",
       "      <th>fm02</th>\n",
       "      <td>-0.131145</td>\n",
       "      <td>-0.027039</td>\n",
       "    </tr>\n",
       "    <tr>\n",
       "      <th>fm03</th>\n",
       "      <td>-0.119710</td>\n",
       "      <td>0.140186</td>\n",
       "    </tr>\n",
       "    <tr>\n",
       "      <th>fm04</th>\n",
       "      <td>0.005794</td>\n",
       "      <td>-0.147695</td>\n",
       "    </tr>\n",
       "    <tr>\n",
       "      <th>fm05</th>\n",
       "      <td>0.008812</td>\n",
       "      <td>0.000032</td>\n",
       "    </tr>\n",
       "    <tr>\n",
       "      <th>fm06</th>\n",
       "      <td>0.001502</td>\n",
       "      <td>0.128214</td>\n",
       "    </tr>\n",
       "    <tr>\n",
       "      <th>fm07</th>\n",
       "      <td>-0.003057</td>\n",
       "      <td>0.102445</td>\n",
       "    </tr>\n",
       "    <tr>\n",
       "      <th>fm08</th>\n",
       "      <td>0.125973</td>\n",
       "      <td>-0.131376</td>\n",
       "    </tr>\n",
       "    <tr>\n",
       "      <th>fm09</th>\n",
       "      <td>0.122512</td>\n",
       "      <td>-0.022618</td>\n",
       "    </tr>\n",
       "    <tr>\n",
       "      <th>fm10</th>\n",
       "      <td>0.119339</td>\n",
       "      <td>0.112495</td>\n",
       "    </tr>\n",
       "  </tbody>\n",
       "</table>\n",
       "</div>"
      ],
      "text/plain": [
       "              t1       to1\n",
       "sample                    \n",
       "fm01   -0.130022 -0.154645\n",
       "fm02   -0.131145 -0.027039\n",
       "fm03   -0.119710  0.140186\n",
       "fm04    0.005794 -0.147695\n",
       "fm05    0.008812  0.000032\n",
       "fm06    0.001502  0.128214\n",
       "fm07   -0.003057  0.102445\n",
       "fm08    0.125973 -0.131376\n",
       "fm09    0.122512 -0.022618\n",
       "fm10    0.119339  0.112495"
      ]
     },
     "execution_count": 37,
     "metadata": {},
     "output_type": "execute_result"
    }
   ],
   "source": [
    "M1.T_To"
   ]
  },
  {
   "cell_type": "code",
   "execution_count": 40,
   "metadata": {},
   "outputs": [
    {
     "data": {
      "text/plain": [
       "<Axes: xlabel='t1', ylabel='to1'>"
      ]
     },
     "execution_count": 40,
     "metadata": {},
     "output_type": "execute_result"
    },
    {
     "data": {
      "image/png": "[encoded data removed]",
      "text/plain": [
       "<Figure size 640x480 with 1 Axes>"
      ]
     },
     "metadata": {},
     "output_type": "display_data"
    }
   ],
   "source": [
    "M1.T_To.plot.scatter(x='t1', y='to1', s=100)"
   ]
  },
  {
   "cell_type": "markdown",
   "metadata": {},
   "source": [
    "### Alternatively, plot them using mv.Fig to also get numbered spectra"
   ]
  },
  {
   "cell_type": "code",
   "execution_count": 43,
   "metadata": {},
   "outputs": [
    {
     "data": {
      "image/png": "[encoded data removed]",
      "text/plain": [
       "<Figure size 640x480 with 1 Axes>"
      ]
     },
     "metadata": {},
     "output_type": "display_data"
    }
   ],
   "source": [
    "f2 = mv.Fig()\n",
    "f2.scatter_plot(np.asarray(M1.T)[:,0], np.asarray(M1.To)[:,0])\n",
    "f2.xlabel('t1')\n",
    "f2.ylabel('to1')"
   ]
  },
  {
   "cell_type": "markdown",
   "metadata": {},
   "source": [
    "### Show the amount of variation in X that is modelled by the predictive component\n",
    "i.e. the varation in X correlated with the y-variation"
   ]
  },
  {
   "cell_type": "code",
   "execution_count": 44,
   "metadata": {},
   "outputs": [
    {
     "data": {
      "text/html": [
       "<div>\n",
       "<style scoped>\n",
       "    .dataframe tbody tr th:only-of-type {\n",
       "        vertical-align: middle;\n",
       "    }\n",
       "\n",
       "    .dataframe tbody tr th {\n",
       "        vertical-align: top;\n",
       "    }\n",
       "\n",
       "    .dataframe thead th {\n",
       "        text-align: right;\n",
       "    }\n",
       "</style>\n",
       "<table border=\"1\" class=\"dataframe\">\n",
       "  <thead>\n",
       "    <tr style=\"text-align: right;\">\n",
       "      <th></th>\n",
       "      <th>R2X_pred</th>\n",
       "    </tr>\n",
       "  </thead>\n",
       "  <tbody>\n",
       "    <tr>\n",
       "      <th>1</th>\n",
       "      <td>0.409975</td>\n",
       "    </tr>\n",
       "  </tbody>\n",
       "</table>\n",
       "</div>"
      ],
      "text/plain": [
       "   R2X_pred\n",
       "1  0.409975"
      ]
     },
     "execution_count": 44,
     "metadata": {},
     "output_type": "execute_result"
    }
   ],
   "source": [
    "M1.R2X_pred"
   ]
  },
  {
   "cell_type": "markdown",
   "metadata": {},
   "source": [
    "### and the amount of modelled variation in X that is orthogonal or independent of y"
   ]
  },
  {
   "cell_type": "code",
   "execution_count": 45,
   "metadata": {},
   "outputs": [
    {
     "data": {
      "text/html": [
       "<div>\n",
       "<style scoped>\n",
       "    .dataframe tbody tr th:only-of-type {\n",
       "        vertical-align: middle;\n",
       "    }\n",
       "\n",
       "    .dataframe tbody tr th {\n",
       "        vertical-align: top;\n",
       "    }\n",
       "\n",
       "    .dataframe thead th {\n",
       "        text-align: right;\n",
       "    }\n",
       "</style>\n",
       "<table border=\"1\" class=\"dataframe\">\n",
       "  <thead>\n",
       "    <tr style=\"text-align: right;\">\n",
       "      <th></th>\n",
       "      <th>R2X_orth</th>\n",
       "    </tr>\n",
       "  </thead>\n",
       "  <tbody>\n",
       "    <tr>\n",
       "      <th>1</th>\n",
       "      <td>0.583718</td>\n",
       "    </tr>\n",
       "  </tbody>\n",
       "</table>\n",
       "</div>"
      ],
      "text/plain": [
       "   R2X_orth\n",
       "1  0.583718"
      ]
     },
     "execution_count": 45,
     "metadata": {},
     "output_type": "execute_result"
    }
   ],
   "source": [
    "M1.R2X_orth"
   ]
  },
  {
   "cell_type": "markdown",
   "metadata": {},
   "source": [
    "### Summary\n",
    "By y-orthogonal PLS, it is possible to extract the spectral shape of the chemical substance that varies in correlation with the variation in y even in a mixture of other substances with other spectral shapes. Best results are obtained when a representative set of random combinations of the chemical substances are present in the training set. Even better and the most economical way is if it is possible to vary the amounts of all substances in a statistical design according to design of experiments (DoE) principles.  "
   ]
  },
  {
   "cell_type": "code",
   "execution_count": null,
   "metadata": {},
   "outputs": [],
   "source": []
  }
 ],
 "metadata": {
  "kernelspec": {
   "display_name": "Python 3 (ipykernel)",
   "language": "python",
   "name": "python3"
  },
  "language_info": {
   "codemirror_mode": {
    "name": "ipython",
    "version": 3
   },
   "file_extension": ".py",
   "mimetype": "text/x-python",
   "name": "python",
   "nbconvert_exporter": "python",
   "pygments_lexer": "ipython3",
   "version": "3.10.6"
  }
 },
 "nbformat": 4,
 "nbformat_minor": 4
}
